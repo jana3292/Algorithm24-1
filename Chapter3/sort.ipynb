{
 "cells": [
  {
   "cell_type": "markdown",
   "metadata": {},
   "source": [
    "1. 문제 정의\n",
    "\n",
    "문제 이름: 오름차순 정렬하기\n",
    "\n",
    "문제 설명: n개의 항목을 key의 순서에 따라 오름차순으로 정렬\n",
    "\n",
    "문제 예시: 리스트에 n개의 항목들이 들어 있다. 이들을 키(key)의 순서에 따라 오름차순(non-decreasing order)으로 재배치하라.\n",
    "\n",
    "다음과 같이 의사코드로 표현하였다.\n",
    "\n",
    "2. 알고리즘 설명\n",
    "\n",
    "명칭: 오름차순 정렬\n",
    "\n",
    "입력: 리스트 n개의 항목\n",
    "\n",
    "출력: key의 순서에 따라 오름차순으로 정렬된 리스트\n",
    "\n",
    "처리순서:\n",
    "\n",
    "1:리스트에서 가장 작은 항목을 찾는다.\n",
    "\n",
    "2:가장 작은 값을 첫 번 째 순서로 저장한다.\n",
    "\n",
    "3:정렬된 리스트에 순서대로 저장한다.\n",
    "\n",
    "3. 손으로 푼 문제"
   ]
  },
  {
   "cell_type": "markdown",
   "metadata": {},
   "source": [
    "![홍민기](aa.jpg)"
   ]
  },
  {
   "cell_type": "markdown",
   "metadata": {},
   "source": [
    "4. 코드 개요\n",
    "\n",
    "1)입력: data = [5, 3, 8, 4, 9, 1, 6, 2, 7]\n",
    "\n",
    "2)출력: Selection : [1, 2, 3, 4, 5, 6, 7, 8, 9]\n",
    "\n",
    "3)함수 설명: "
   ]
  }
 ],
 "metadata": {
  "kernelspec": {
   "display_name": "Python 3",
   "language": "python",
   "name": "python3"
  },
  "language_info": {
   "codemirror_mode": {
    "name": "ipython",
    "version": 3
   },
   "file_extension": ".py",
   "mimetype": "text/x-python",
   "name": "python",
   "nbconvert_exporter": "python",
   "pygments_lexer": "ipython3",
   "version": "3.12.2"
  }
 },
 "nbformat": 4,
 "nbformat_minor": 2
}
